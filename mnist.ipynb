{
 "cells": [
  {
   "cell_type": "markdown",
   "metadata": {},
   "source": [
    "# Mnist Dense Training"
   ]
  },
  {
   "cell_type": "markdown",
   "metadata": {},
   "source": [
    "网站：https://tensorflow.google.cn/alpha/tutorials/quickstart/beginner"
   ]
  },
  {
   "cell_type": "code",
   "execution_count": 1,
   "metadata": {},
   "outputs": [],
   "source": [
    "import tensorflow as tf # tf2.0a\n",
    "import numpy as np\n",
    "import matplotlib.pyplot as plt"
   ]
  },
  {
   "cell_type": "markdown",
   "metadata": {},
   "source": [
    "第一步上获取数据，处理数据，数据的采集转换是训练的基础\n",
    "一般分为training data和testing data\n",
    "Load and prepare the MNIST dataset. Convert the samples from integers to floating-point numbers:"
   ]
  },
  {
   "cell_type": "code",
   "execution_count": 2,
   "metadata": {},
   "outputs": [
    {
     "name": "stdout",
     "output_type": "stream",
     "text": [
      "Downloading data from https://storage.googleapis.com/tensorflow/tf-keras-datasets/mnist.npz\n",
      "11493376/11490434 [==============================] - 1116s 97us/step\n"
     ]
    }
   ],
   "source": [
    "mnist = tf.keras.datasets.mnist\n",
    "\n",
    "(x_train, y_train), (x_test, y_test) = mnist.load_data()\n",
    "\n",
    "# 整数变成浮点数，输出是0-9，不用变成浮点数\n",
    "x_train, x_test = x_train / 255.0, x_test / 255.0\n"
   ]
  },
  {
   "cell_type": "code",
   "execution_count": 3,
   "metadata": {},
   "outputs": [
    {
     "name": "stdout",
     "output_type": "stream",
     "text": [
      "(60000, 28, 28)\n",
      "float64\n",
      "3\n",
      "<class 'numpy.ndarray'>\n",
      "(60000,)\n"
     ]
    }
   ],
   "source": [
    "# 打印输入图像的维度\n",
    "print(x_train.shape)\n",
    "print(x_train.dtype)\n",
    "print(x_train.ndim)\n",
    "print(type(x_train))\n",
    "print(y_train.shape)"
   ]
  },
  {
   "cell_type": "code",
   "execution_count": 4,
   "metadata": {},
   "outputs": [
    {
     "name": "stdout",
     "output_type": "stream",
     "text": [
      "图像的值为： 1\n"
     ]
    },
    {
     "data": {
      "image/png": "[encoded data removed]",
      "text/plain": [
       "<Figure size 432x288 with 1 Axes>"
      ]
     },
     "metadata": {
      "needs_background": "light"
     },
     "output_type": "display_data"
    }
   ],
   "source": [
    "# 查看其中一个图像\n",
    "# print(x_train[1,...])\n",
    "x_index=99\n",
    "#plt.imshow(x_train[x_index,...],cmap=plt.cm.gray)\n",
    "plt.imshow(x_train[x_index,...])\n",
    "print(\"图像的值为：\",y_train[x_index])"
   ]
  },
  {
   "cell_type": "markdown",
   "metadata": {},
   "source": [
    "使用keras API建立全连接神经网络模型"
   ]
  },
  {
   "cell_type": "code",
   "execution_count": 5,
   "metadata": {},
   "outputs": [
    {
     "name": "stdout",
     "output_type": "stream",
     "text": [
      "Model: \"sequential\"\n",
      "_________________________________________________________________\n",
      "Layer (type)                 Output Shape              Param #   \n",
      "=================================================================\n",
      "flatten (Flatten)            (None, 784)               0         \n",
      "_________________________________________________________________\n",
      "dense (Dense)                (None, 128)               100480    \n",
      "_________________________________________________________________\n",
      "dense_1 (Dense)              (None, 128)               16512     \n",
      "_________________________________________________________________\n",
      "dense_2 (Dense)              (None, 10)                1290      \n",
      "=================================================================\n",
      "Total params: 118,282\n",
      "Trainable params: 118,282\n",
      "Non-trainable params: 0\n",
      "_________________________________________________________________\n"
     ]
    }
   ],
   "source": [
    "model = tf.keras.Sequential()\n",
    "model.add(tf.keras.layers.Flatten(input_shape=(28, 28))) # 展开第一层 用于神经网络输入\n",
    "model.add(tf.keras.layers.Dense(128, activation='relu'))\n",
    "model.add(tf.keras.layers.Dense(128, activation='relu'))\n",
    "model.add(tf.keras.layers.Dense(10, activation='softmax'))\n",
    "# 显示模型\n",
    "model.summary()"
   ]
  },
  {
   "cell_type": "markdown",
   "metadata": {},
   "source": [
    "设置模型训练参数Configures the model for training. https://www.tensorflow.org/versions/r2.0/api_docs/python/tf/keras/Model#compile\n",
    "```\n",
    "compile(\n",
    "    optimizer,\n",
    "    loss=None,\n",
    "    metrics=None,\n",
    "    loss_weights=None,\n",
    "    sample_weight_mode=None,\n",
    "    weighted_metrics=None,\n",
    "    target_tensors=None,\n",
    "    distribute=None,\n",
    "    **kwargs\n",
    ")\n",
    "```\n"
   ]
  },
  {
   "cell_type": "code",
   "execution_count": 6,
   "metadata": {},
   "outputs": [],
   "source": [
    "model.compile(optimizer='sgd',loss='sparse_categorical_crossentropy', metrics=['accuracy'])"
   ]
  },
  {
   "cell_type": "markdown",
   "metadata": {},
   "source": [
    "训练模型"
   ]
  },
  {
   "cell_type": "code",
   "execution_count": 7,
   "metadata": {},
   "outputs": [
    {
     "name": "stdout",
     "output_type": "stream",
     "text": [
      "WARNING:tensorflow:From C:\\ProgramData\\Anaconda3\\lib\\site-packages\\tensorflow\\python\\ops\\math_grad.py:1250: add_dispatch_support.<locals>.wrapper (from tensorflow.python.ops.array_ops) is deprecated and will be removed in a future version.\n",
      "Instructions for updating:\n",
      "Use tf.where in 2.0, which has the same broadcast rule as np.where\n",
      "Train on 60000 samples\n",
      "Epoch 1/5\n",
      "60000/60000 [==============================] - 4s 71us/sample - loss: 0.6497 - accuracy: 0.8288\n",
      "Epoch 2/5\n",
      "60000/60000 [==============================] - 4s 70us/sample - loss: 0.2996 - accuracy: 0.9153\n",
      "Epoch 3/5\n",
      "60000/60000 [==============================] - 4s 70us/sample - loss: 0.2490 - accuracy: 0.9299\n",
      "Epoch 4/5\n",
      "60000/60000 [==============================] - 4s 70us/sample - loss: 0.2132 - accuracy: 0.9398\n",
      "Epoch 5/5\n",
      "60000/60000 [==============================] - 4s 69us/sample - loss: 0.1868 - accuracy: 0.9470\n"
     ]
    },
    {
     "data": {
      "text/plain": [
       "<tensorflow.python.keras.callbacks.History at 0x2317d907940>"
      ]
     },
     "execution_count": 7,
     "metadata": {},
     "output_type": "execute_result"
    }
   ],
   "source": [
    "model.fit(x_train, y_train, epochs=5)"
   ]
  },
  {
   "cell_type": "markdown",
   "metadata": {},
   "source": [
    "评估模型是否正确"
   ]
  },
  {
   "cell_type": "code",
   "execution_count": 8,
   "metadata": {
    "scrolled": true
   },
   "outputs": [
    {
     "name": "stdout",
     "output_type": "stream",
     "text": [
      "10000/10000 [==============================] - 0s 49us/sample - loss: 0.1721 - accuracy: 0.9508\n"
     ]
    },
    {
     "data": {
      "text/plain": [
       "[0.17209154195934534, 0.9508]"
      ]
     },
     "execution_count": 8,
     "metadata": {},
     "output_type": "execute_result"
    }
   ],
   "source": [
    "model.evaluate(x_test, y_test)"
   ]
  },
  {
   "cell_type": "markdown",
   "metadata": {},
   "source": [
    "用测试图像测试模型的效果"
   ]
  },
  {
   "cell_type": "code",
   "execution_count": 9,
   "metadata": {},
   "outputs": [
    {
     "name": "stdout",
     "output_type": "stream",
     "text": [
      "------输入一个数，获得概率输出----------\n",
      "[[1.43734549e-04 1.16929435e-07 1.69576867e-03 4.24920488e-03\n",
      "  5.45905863e-08 6.52863964e-05 1.90903897e-08 9.93778110e-01\n",
      "  5.22419441e-06 6.25455505e-05]]\n",
      "----------------\n",
      "图像的值为： 7\n",
      "----------------\n",
      "预测结果: [7]\n"
     ]
    },
    {
     "data": {
      "image/png": "[encoded data removed]",
      "text/plain": [
       "<Figure size 432x288 with 1 Axes>"
      ]
     },
     "metadata": {
      "needs_background": "light"
     },
     "output_type": "display_data"
    }
   ],
   "source": [
    "x_test_index=17 #8就会不成功\n",
    "print('------输入一个数，获得概率输出----------')\n",
    "print(model.predict(x_test[x_test_index,...][np.newaxis,:])) # 输入一个数，获得概率输出\n",
    "print('----------------')\n",
    "plt.imshow(x_test[x_test_index,...])\n",
    "print(\"图像的值为：\",y_test[x_test_index])\n",
    "print('----------------')\n",
    "print('预测结果:',model.predict_classes(x_test[x_test_index,...][np.newaxis,:])) # 输出分类"
   ]
  },
  {
   "cell_type": "markdown",
   "metadata": {},
   "source": [
    "训练成功！"
   ]
  }
 ],
 "metadata": {
  "kernelspec": {
   "display_name": "Python 3",
   "language": "python",
   "name": "python3"
  },
  "language_info": {
   "codemirror_mode": {
    "name": "ipython",
    "version": 3
   },
   "file_extension": ".py",
   "mimetype": "text/x-python",
   "name": "python",
   "nbconvert_exporter": "python",
   "pygments_lexer": "ipython3",
   "version": "3.7.3"
  }
 },
 "nbformat": 4,
 "nbformat_minor": 2
}

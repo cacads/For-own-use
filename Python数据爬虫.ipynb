{
 "cells": [
  {
   "cell_type": "code",
   "execution_count": 30,
   "metadata": {},
   "outputs": [],
   "source": [
    "import requests\n",
    "from bs4 import BeautifulSoup"
   ]
  },
  {
   "cell_type": "code",
   "execution_count": 31,
   "metadata": {},
   "outputs": [],
   "source": [
    "allUniv=[]"
   ]
  },
  {
   "cell_type": "code",
   "execution_count": 32,
   "metadata": {},
   "outputs": [],
   "source": [
    "def getHTML(url):\n",
    "    try:\n",
    "        r = requests.get(url, timeout=30)\n",
    "        r.raise_for_status()\n",
    "        r.encoding = r.apparent_encoding\n",
    "        return r.text\n",
    "    except:\n",
    "        return \"爬取失败\""
   ]
  },
  {
   "cell_type": "code",
   "execution_count": 33,
   "metadata": {},
   "outputs": [],
   "source": [
    "def fillUnivList(soup):\n",
    "    data = soup.find_all('tr')\n",
    "    for tr in data:\n",
    "        ltd = tr.find_all('td')\n",
    "        if len(ltd)==0:\n",
    "            continue\n",
    "        singleUniv = []\n",
    "        for td in ltd:\n",
    "            singleUniv.append(td.string)\n",
    "        allUniv.append(singleUniv)"
   ]
  },
  {
   "cell_type": "code",
   "execution_count": 34,
   "metadata": {},
   "outputs": [],
   "source": [
    "def printUnivList(num):\n",
    "    print(\"{1:^2}\\t{2:{0}^10}\\t{3:{0}^6}\\t{4:{0}<6}\".format(chr(12288),\"排名\",\"学校\",\"省市\",\"总分\"))\n",
    "    for i in range(num):\n",
    "        u=allUniv[i]\n",
    "        print(\"{1:^2}\\t{2:{0}^10}\\t{3:{0}^6}\\t{4:{0}<6}\".format(chr(12288),u[0],u[1],u[2],u[3]))"
   ]
  },
  {
   "cell_type": "code",
   "execution_count": 35,
   "metadata": {},
   "outputs": [],
   "source": [
    "def main(unm):\n",
    "    url = 'http://www.zuihaodaxue.cn/zuihaodaxuepaiming2019.html'\n",
    "    html = getHTML(url)\n",
    "    soup = BeautifulSoup(html, \"html.parser\")\n",
    "    fillUnivList(soup)\n",
    "    printUnivList(unm)"
   ]
  },
  {
   "cell_type": "code",
   "execution_count": 36,
   "metadata": {},
   "outputs": [
    {
     "name": "stdout",
     "output_type": "stream",
     "text": [
      "排名\t　　　　学校　　　　\t　　省市　　\t总分　　　　\n",
      "1 \t　　　清华大学　　　\t　　北京　　\t94.6　　\n",
      "2 \t　　　北京大学　　　\t　　北京　　\t76.5　　\n",
      "3 \t　　　浙江大学　　　\t　　浙江　　\t72.9　　\n",
      "4 \t　　上海交通大学　　\t　　上海　　\t72.1　　\n",
      "5 \t　　　复旦大学　　　\t　　上海　　\t65.6　　\n"
     ]
    }
   ],
   "source": [
    "main(5)"
   ]
  }
 ],
 "metadata": {
  "kernelspec": {
   "display_name": "Python 3",
   "language": "python",
   "name": "python3"
  },
  "language_info": {
   "codemirror_mode": {
    "name": "ipython",
    "version": 3
   },
   "file_extension": ".py",
   "mimetype": "text/x-python",
   "name": "python",
   "nbconvert_exporter": "python",
   "pygments_lexer": "ipython3",
   "version": "3.7.3"
  }
 },
 "nbformat": 4,
 "nbformat_minor": 2
}
